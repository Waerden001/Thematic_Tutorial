{
 "cells": [
  {
   "cell_type": "markdown",
   "metadata": {
    "collapsed": false
   },
   "source": [
    "# Riemann-Roch Theorems\n",
    "\n",
    "## Hirzebruch-Riemann-Roch theorem\n",
    "The Hirzebruch-Riemann-Roch formula states that the <a knowl=\"euler_characteristic\">Euler characteristic</a> $\\chi(X, E)$ of some <a knowl=\"coherent_sheaf\">coherent sheaf</a> $E$ on a smooth proper scheme $X$ over a field is given by the degree in the <a knowl=\"chow_group\">Chow group</a> of the dimension zero component of the product of the <a knowl=\"chern_character\">Chern character</a> $\\mathrm{ch}(E)$ of the sheaf and the <a knowl=\"todd_class\">Todd class</a> $\\mathrm{Td}_{X}$ of the tangent bundle of $X$.\n",
    "$$\\chi(X, E)=\\int_{X}\\mathrm{ch}(E)\\mathrm{Td}_{X}.$$"
   ]
  },
  {
   "cell_type": "markdown",
   "metadata": {
    "collapsed": false
   },
   "source": [
    "### Examples\n",
    "- $\\chi(X, \\mathcal{O}_{X})$ of an abstract variety."
   ]
  },
  {
   "cell_type": "code",
   "execution_count": 13,
   "metadata": {
    "collapsed": false
   },
   "outputs": [
    {
     "name": "stdout",
     "output_type": "stream",
     "text": [
      "X\n",
      "\n",
      "an abstract variety of dimension 2\n",
      "\n",
      "a sheaf\n",
      "\n",
      "an abstract sheaf of rank 2 on X\n",
      "\n",
      "    1      1 2    1\n",
      "1 - -K + (--K  + --c )\n",
      "    2     12     12 2\n",
      "\n",
      "QQ[r, D, d , K, c , d ]\n",
      "          1      2   2\n",
      "\n",
      "          1 2    1\n",
      "integral(--K  + --c )\n",
      "         12     12 2\n",
      "\n",
      "Expression of class Adjacent\n"
     ]
    }
   ],
   "source": [
    "%%macaulay2\n",
    "X = abstractVariety(2,QQ[r,D,d_1,K,c_2,d_2,Degrees=>{0,3:1,2:2}])\n",
    "X.TangentBundle = abstractSheaf(X,Rank=>2,ChernClass=>1-K+c_2)\n",
    "\n",
    "todd(X)\n",
    "chi OO_X"
   ]
  }
 ],
 "metadata": {
  "kernelspec": {
   "display_name": "SageMath 9.0",
   "language": "sagemath",
   "metadata": {
    "cocalc": {
     "description": "Open-source mathematical software system",
     "priority": 1,
     "url": "https://www.sagemath.org/"
    }
   },
   "name": "sage-9.0"
  },
  "language_info": {
   "codemirror_mode": {
    "name": "ipython",
    "version": 3
   },
   "file_extension": ".py",
   "mimetype": "text/x-python",
   "name": "python",
   "nbconvert_exporter": "python",
   "pygments_lexer": "ipython3",
   "version": "3.7.3"
  }
 },
 "nbformat": 4,
 "nbformat_minor": 4
}